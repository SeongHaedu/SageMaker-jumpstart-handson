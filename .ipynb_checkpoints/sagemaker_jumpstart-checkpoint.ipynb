{
 "cells": [
  {
   "cell_type": "markdown",
   "id": "6b3c82c2-62af-41a2-b4b8-bd85fe25a2d1",
   "metadata": {},
   "source": [
    "# SageMaker JumpStart"
   ]
  },
  {
   "cell_type": "code",
   "execution_count": null,
   "id": "8ad48a72-a11d-4c13-8b65-b4a46b9f2a46",
   "metadata": {},
   "outputs": [],
   "source": []
  },
  {
   "cell_type": "markdown",
   "id": "c1f640ac-529e-4a80-8929-d4691f4bfb1d",
   "metadata": {},
   "source": [
    "## Setup\n",
    "\n",
    "Upgrade some libraries for running this notebook."
   ]
  },
  {
   "cell_type": "code",
   "execution_count": null,
   "id": "8c59ea07-e0f7-4444-ba36-74a53fb2a8fc",
   "metadata": {
    "tags": []
   },
   "outputs": [],
   "source": [
    "!pip install sagemaker --upgrade\n",
    "!pip install ipywidgets"
   ]
  },
  {
   "cell_type": "markdown",
   "id": "9d6e3998-72cc-4798-836b-5217259e07e3",
   "metadata": {},
   "source": [
    "In order to train and host with Amazon Sagemaker, you need to set up and authenticate to use AWS services."
   ]
  },
  {
   "cell_type": "code",
   "execution_count": null,
   "id": "d8a7e014-b0d7-4425-90eb-c5d57780fd78",
   "metadata": {
    "tags": []
   },
   "outputs": [],
   "source": [
    "import sagemaker, boto3, json\n",
    "from sagemaker import get_execution_role\n",
    "\n",
    "aws_role = get_execution_role()\n",
    "aws_region = boto3.Session().region_name\n",
    "sess = sagemaker.Session()\n",
    "\n",
    "print('-----AWS authentication info------')\n",
    "print('Role: ' + aws_role)\n",
    "print('Region: ' + aws_region)\n",
    "print('----------------------------------')"
   ]
  },
  {
   "cell_type": "markdown",
   "id": "2e83f975-2263-4a39-ad0a-a84d480f8600",
   "metadata": {},
   "source": [
    "## Select a pre-trained model"
   ]
  },
  {
   "cell_type": "code",
   "execution_count": null,
   "id": "1c214d0f-d6de-4cc5-a8d6-77c1ae4c1016",
   "metadata": {
    "tags": []
   },
   "outputs": [],
   "source": [
    "import IPython\n",
    "from ipywidgets import Dropdown\n",
    "\n",
    "# JumpStartの model_manifest ファイルをダウンロードします\n",
    "boto3.client(\"s3\").download_file(\n",
    "    f\"jumpstart-cache-prod-{aws_region}\", \"models_manifest.json\", \"models_manifest.json\"\n",
    ")\n",
    "with open(\"models_manifest.json\", \"rb\") as json_file:\n",
    "    model_list = json.load(json_file)\n",
    "\n",
    "# manifestファイルから全ての画像分類モデルを選択します\n",
    "ic_models_all_versions, ic_models = [\n",
    "    model[\"model_id\"] for model in model_list if \"-ic-\" in model[\"model_id\"]\n",
    "], []\n",
    "[ic_models.append(model) for model in ic_models_all_versions if model not in ic_models]\n",
    "\n",
    "# ユーザ選択のため、model-idsのドロップダウンリストを表示します\n",
    "dropdown = Dropdown(\n",
    "    options=ic_models,\n",
    "    value=model_id,\n",
    "    description=\"JumpStart Image Classification Models:\",\n",
    "    style={\"description_width\": \"initial\"},\n",
    "    layout={\"width\": \"max-content\"},\n",
    ")\n",
    "display(IPython.display.Markdown(\"## Select a JumpStart pre-trained model from the dropdown below\"))\n",
    "display(dropdown)"
   ]
  },
  {
   "cell_type": "code",
   "execution_count": null,
   "id": "c898ca06-d3d5-4207-af7f-ed094ecc6e0f",
   "metadata": {},
   "outputs": [],
   "source": []
  },
  {
   "cell_type": "code",
   "execution_count": null,
   "id": "5eb0070d-8099-4ac3-bf27-3300f9a11148",
   "metadata": {
    "tags": []
   },
   "outputs": [],
   "source": [
    "from sagemaker import image_uris, model_uris, script_uris, hyperparameters\n",
    "from sagemaker.model import Model\n",
    "from sagemaker.predictor import Predictor\n",
    "from sagemaker.utils import name_from_base\n",
    "\n",
    "# model_version=\"*\" は最新のモデルバージョンを取得します\n",
    "model_id, model_version = dropdown.value, \"*\"\n",
    "\n",
    "endpoint_name = name_from_base(f\"jumpstart-example-{model_id}\")\n",
    "\n",
    "training_instance_type = \"ml.g4dn.2xlarge\"\n",
    "\n",
    "# training 用Dockerコンテナを取得します\n",
    "train_image_uri = image_uris.retrieve(\n",
    "    region=None,\n",
    "    framework=None,\n",
    "    image_scope=\"training\",\n",
    "    model_id=model_id,\n",
    "    model_version=model_version,\n",
    "    instance_type=training_instance_type,\n",
    ")\n",
    "# training 用スクリプトを取得します\n",
    "train_source_uri = script_uris.retrieve(\n",
    "    model_id=model_id, \n",
    "    model_version=model_version, \n",
    "    script_scope=\"training\"\n",
    ")\n",
    "# ベースモデルのuriを取得します\n",
    "base_model_uri = model_uris.retrieve(\n",
    "    model_id=model_id, \n",
    "    model_version=model_version, \n",
    "    model_scope=\"training\"\n",
    ")\n",
    "print('----------JumpStart info----------')\n",
    "print('Endpoint name: ' + endpoint_name)\n",
    "print('Container image uri: ' + train_image_uri)\n",
    "print('Source uri: ' + train_source_uri)\n",
    "print('Base model uri: ' + base_model_uri)\n",
    "print('----------------------------------')"
   ]
  },
  {
   "cell_type": "code",
   "execution_count": null,
   "id": "947d8548-d2ec-4b8d-81fb-eba2c8299870",
   "metadata": {
    "tags": []
   },
   "outputs": [],
   "source": [
    "# 有効なバケット内のサンプル教師画像\n",
    "training_data_bucket = f\"jumpstart-cache-prod-{aws_region}\"\n",
    "training_data_prefix = \"training-datasets/tf_flowers/\"\n",
    "\n",
    "training_dataset_s3_path = f\"s3://{training_data_bucket}/{training_data_prefix}\"\n",
    "\n",
    "output_bucket = sess.default_bucket()\n",
    "output_prefix = \"jumpstart-example-ic-training\"\n",
    "\n",
    "s3_output_location = f\"s3://{output_bucket}/{output_prefix}/output\""
   ]
  },
  {
   "cell_type": "code",
   "execution_count": null,
   "id": "84784f54-35df-4e4b-b8df-1bab85c2d815",
   "metadata": {
    "tags": []
   },
   "outputs": [],
   "source": [
    "from sagemaker import hyperparameters\n",
    "\n",
    "# モデルのファインチューニングのためのデフォルトのハイパーパラメータを取得します\n",
    "hyperparameters = hyperparameters.retrieve_default(model_id=model_id, model_version=model_version)\n",
    "\n",
    "# [オプション] デフォルトのハイパーパラメータを独自の値で上書きします\n",
    "hyperparameters[\"epochs\"] = \"5\"\n",
    "print(hyperparameters)"
   ]
  },
  {
   "cell_type": "code",
   "execution_count": null,
   "id": "a8d05f41-f783-462d-88f6-52d59a8d3542",
   "metadata": {
    "tags": []
   },
   "outputs": [],
   "source": [
    "from sagemaker.tuner import ContinuousParameter\n",
    "\n",
    "# チューニングとモデルの選択にAMT (Automatic Model Tuning)を利用するかどうか \n",
    "use_amt = False\n"
   ]
  },
  {
   "cell_type": "code",
   "execution_count": null,
   "id": "a58d9443-61b2-45ea-8a76-0c71ac275a1f",
   "metadata": {},
   "outputs": [],
   "source": []
  },
  {
   "cell_type": "code",
   "execution_count": null,
   "id": "62a13d7e-7f25-4b1e-89b6-97aebd83bee9",
   "metadata": {
    "tags": []
   },
   "outputs": [],
   "source": [
    "# download sourcedir from S3\n",
    "import os\n",
    "import shutil\n",
    "\n",
    "if not os.path.exists('source'): # ディレクトリが存在するか確認\n",
    "    os.makedirs('source')\n",
    "sourcedir_path = train_source_uri.replace('s3://' + training_data_bucket + '/','')\n",
    "boto3.client(\"s3\").download_file(training_data_bucket, sourcedir_path, './source/sourcedir.tar.gz')\n",
    "shutil.unpack_archive('./source/sourcedir.tar.gz', extract_dir='./source/')"
   ]
  },
  {
   "cell_type": "code",
   "execution_count": null,
   "id": "7df576b1-e8eb-4d20-8bdf-3b6be5cf75b4",
   "metadata": {
    "tags": []
   },
   "outputs": [],
   "source": [
    "!pygmentize ./source/transfer_learning.py"
   ]
  },
  {
   "cell_type": "code",
   "execution_count": null,
   "id": "7157f604-6ce6-4c14-ad1d-54a76dd9f31f",
   "metadata": {},
   "outputs": [],
   "source": []
  },
  {
   "cell_type": "code",
   "execution_count": null,
   "id": "be04113e-4f42-4d66-97dc-01912a8c6aed",
   "metadata": {
    "tags": []
   },
   "outputs": [],
   "source": [
    "from sagemaker.estimator import Estimator\n",
    "from sagemaker.utils import name_from_base\n",
    "from sagemaker.tuner import HyperparameterTuner\n",
    "\n",
    "training_job_name = name_from_base(f\"jumpstart-example-{model_id}-transfer-learning\")\n",
    "\n",
    "# SageMakerのEstimatorインスタンスを作成します\n",
    "ic_estimator = Estimator(\n",
    "    role=aws_role,\n",
    "    image_uri=train_image_uri,\n",
    "    source_dir=train_source_uri,\n",
    "    model_uri=base_model_uri,\n",
    "    entry_point=\"transfer_learning.py\",\n",
    "    instance_count=1,\n",
    "    instance_type=training_instance_type,\n",
    "    max_run=360000,\n",
    "    hyperparameters=hyperparameters,\n",
    "    output_path=s3_output_location,\n",
    "    base_job_name=training_job_name,\n",
    ")\n",
    "\n",
    "# トレーニングデータのS3パスを渡して、SageMaker 学習ジョブを開始します\n",
    "ic_estimator.fit({\"training\": training_dataset_s3_path}, logs=True)"
   ]
  },
  {
   "cell_type": "code",
   "execution_count": null,
   "id": "1a67e3e3-3cf7-46a2-93bf-14eaf29a851a",
   "metadata": {},
   "outputs": [],
   "source": []
  },
  {
   "cell_type": "code",
   "execution_count": null,
   "id": "eadce022-dae1-481b-a620-4cada6442cfa",
   "metadata": {
    "tags": []
   },
   "outputs": [],
   "source": [
    "inference_instance_type = \"ml.m5.xlarge\"\n",
    "\n",
    "# 推論用 Docker コンテナの uri を取得します\n",
    "deploy_image_uri = image_uris.retrieve(\n",
    "    region=None,\n",
    "    framework=None,\n",
    "    image_scope=\"inference\",\n",
    "    model_id=model_id,\n",
    "    model_version=model_version,\n",
    "    instance_type=inference_instance_type,\n",
    ")\n",
    "# 推論用のスクリプト uri を取得します\n",
    "deploy_source_uri = script_uris.retrieve(\n",
    "    model_id=model_id, model_version=model_version, script_scope=\"inference\"\n",
    ")\n",
    "\n",
    "endpoint_name = name_from_base(f\"jumpstart-example-FT-{model_id}-\")\n",
    "\n",
    "# SageMakerエンドポイントをデプロイするため前のステップのestimatorを使用します\n",
    "finetuned_predictor = (hp_tuner if use_amt else ic_estimator).deploy(\n",
    "    initial_instance_count=1,\n",
    "    instance_type=inference_instance_type,\n",
    "    entry_point=\"inference.py\",\n",
    "    image_uri=deploy_image_uri,\n",
    "    source_dir=deploy_source_uri,\n",
    "    endpoint_name=endpoint_name,\n",
    ")"
   ]
  },
  {
   "cell_type": "code",
   "execution_count": null,
   "id": "8327cf4a-215a-4a6e-b0f1-93abb8981466",
   "metadata": {},
   "outputs": [],
   "source": []
  },
  {
   "cell_type": "code",
   "execution_count": null,
   "id": "245aff37-514d-4450-b5b0-c8a13cf0d464",
   "metadata": {
    "tags": []
   },
   "outputs": [],
   "source": [
    "s3_bucket = f\"jumpstart-cache-prod-{aws_region}\"\n",
    "key_prefix = \"training-datasets/tf_flowers\"\n",
    "\n",
    "\n",
    "def download_from_s3(images):\n",
    "    for filename, image_key in images.items():\n",
    "        boto3.client(\"s3\").download_file(s3_bucket, f\"{key_prefix}/{image_key}\", filename)\n",
    "\n",
    "\n",
    "flower_images = {\n",
    "    \"img1.jpg\": \"roses/10503217854_e66a804309.jpg\",\n",
    "    \"img2.jpg\": \"sunflowers/1008566138_6927679c8a.jpg\",\n",
    "}\n",
    "download_from_s3(flower_images)"
   ]
  },
  {
   "cell_type": "code",
   "execution_count": null,
   "id": "fdd22a04-dc7c-4656-af40-f604c27a4b50",
   "metadata": {},
   "outputs": [],
   "source": []
  },
  {
   "cell_type": "code",
   "execution_count": null,
   "id": "cabfe78e-3911-4a94-b655-4c68482e5418",
   "metadata": {
    "tags": []
   },
   "outputs": [],
   "source": [
    "from IPython.core.display import HTML\n",
    "\n",
    "for image_filename in flower_images.keys():\n",
    "    with open(image_filename, \"rb\") as file:\n",
    "        img = file.read()\n",
    "    query_response = finetuned_predictor.predict(\n",
    "        img, {\"ContentType\": \"application/x-image\", \"Accept\": \"application/json;verbose\"}\n",
    "    )\n",
    "    model_predictions = json.loads(query_response)\n",
    "    predicted_label = model_predictions[\"predicted_label\"]\n",
    "    display(\n",
    "        HTML(\n",
    "            f'<img src={image_filename} alt={image_filename} align=\"left\" style=\"width: 250px;\"/>'\n",
    "            f\"<figcaption>Predicted Label: {predicted_label}</figcaption>\"\n",
    "        )\n",
    "    )"
   ]
  },
  {
   "cell_type": "code",
   "execution_count": null,
   "id": "d2b79995-e923-4866-8386-8a5869336ab4",
   "metadata": {
    "tags": []
   },
   "outputs": [],
   "source": [
    "# SageMakerエンドポイントとアタッチされたリソースを削除します\n",
    "finetuned_predictor.delete_model()\n",
    "finetuned_predictor.delete_endpoint()"
   ]
  },
  {
   "cell_type": "markdown",
   "id": "2a37c8eb-a720-409c-b10d-b7a94cfbb35d",
   "metadata": {},
   "source": [
    "## Incremental learinig"
   ]
  },
  {
   "cell_type": "code",
   "execution_count": null,
   "id": "c8e092d5-c422-4330-822e-aac1cc2739d4",
   "metadata": {
    "tags": []
   },
   "outputs": [],
   "source": [
    "# 学習ジョブ名とアーティファクトのアウトプット場所をもとに、前のステップで学習したモデルを特定します\n",
    "\n",
    "last_training_job_name = ic_estimator._current_job_name\n",
    "\n",
    "last_trained_model_path = f\"{s3_output_location}/{last_training_job_name}/output/model.tar.gz\"\n",
    "\n",
    "print(last_trained_model_path)"
   ]
  },
  {
   "cell_type": "code",
   "execution_count": null,
   "id": "218312f4-1447-49bf-9850-6b48626d98f1",
   "metadata": {
    "tags": []
   },
   "outputs": [],
   "source": [
    "incremental_train_output_prefix = \"jumpstart-example-ic-incremental-training\"\n",
    "\n",
    "incremental_s3_output_location = f\"s3://{output_bucket}/{incremental_train_output_prefix}/output\"\n",
    "\n",
    "incremental_training_job_name = name_from_base(f\"jumpstart-example-{model_id}-incremental-training\")\n",
    "\n",
    "incremental_train_estimator = Estimator(\n",
    "    role=aws_role,\n",
    "    image_uri=train_image_uri,\n",
    "    source_dir=train_source_uri,\n",
    "    model_uri=last_trained_model_path,\n",
    "    entry_point=\"transfer_learning.py\",\n",
    "    instance_count=1,\n",
    "    instance_type=training_instance_type,\n",
    "    max_run=360000,\n",
    "    hyperparameters=hyperparameters,\n",
    "    output_path=incremental_s3_output_location,\n",
    "    base_job_name=incremental_training_job_name,\n",
    ")\n",
    "\n",
    "incremental_train_estimator.fit({\"training\": training_dataset_s3_path}, logs=True)"
   ]
  },
  {
   "cell_type": "code",
   "execution_count": null,
   "id": "df80260a-0a52-49db-a51d-6bd279db51f1",
   "metadata": {},
   "outputs": [],
   "source": []
  },
  {
   "cell_type": "code",
   "execution_count": null,
   "id": "8fa24d1c-57f4-4fea-b06c-ad7851648d9d",
   "metadata": {},
   "outputs": [],
   "source": []
  },
  {
   "cell_type": "code",
   "execution_count": null,
   "id": "eeb82565-720d-4c17-8884-1058568f338d",
   "metadata": {},
   "outputs": [],
   "source": []
  },
  {
   "cell_type": "code",
   "execution_count": null,
   "id": "613146f4-77da-4d97-af36-8e6f36a7a1f1",
   "metadata": {},
   "outputs": [],
   "source": []
  }
 ],
 "metadata": {
  "kernelspec": {
   "display_name": "conda_python3",
   "language": "python",
   "name": "conda_python3"
  },
  "language_info": {
   "codemirror_mode": {
    "name": "ipython",
    "version": 3
   },
   "file_extension": ".py",
   "mimetype": "text/x-python",
   "name": "python",
   "nbconvert_exporter": "python",
   "pygments_lexer": "ipython3",
   "version": "3.10.13"
  }
 },
 "nbformat": 4,
 "nbformat_minor": 5
}
