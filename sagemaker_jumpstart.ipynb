{
 "cells": [
  {
   "cell_type": "markdown",
   "id": "6b3c82c2-62af-41a2-b4b8-bd85fe25a2d1",
   "metadata": {},
   "source": [
    "# SageMaker JumpStart"
   ]
  },
  {
   "cell_type": "code",
   "execution_count": null,
   "id": "8ad48a72-a11d-4c13-8b65-b4a46b9f2a46",
   "metadata": {},
   "outputs": [],
   "source": []
  },
  {
   "cell_type": "markdown",
   "id": "c1f640ac-529e-4a80-8929-d4691f4bfb1d",
   "metadata": {},
   "source": [
    "## Setup\n",
    "\n",
    "Upgrade some libraries for running this notebook."
   ]
  },
  {
   "cell_type": "code",
   "execution_count": null,
   "id": "8c59ea07-e0f7-4444-ba36-74a53fb2a8fc",
   "metadata": {
    "tags": []
   },
   "outputs": [],
   "source": [
    "!pip install sagemaker --upgrade\n",
    "!pip install ipywidgets"
   ]
  },
  {
   "cell_type": "markdown",
   "id": "9d6e3998-72cc-4798-836b-5217259e07e3",
   "metadata": {},
   "source": [
    "In order to train and host with Amazon Sagemaker, you need to set up and authenticate to use AWS services."
   ]
  },
  {
   "cell_type": "code",
   "execution_count": null,
   "id": "d8a7e014-b0d7-4425-90eb-c5d57780fd78",
   "metadata": {
    "tags": []
   },
   "outputs": [],
   "source": [
    "import sagemaker, boto3, json\n",
    "from sagemaker import get_execution_role\n",
    "\n",
    "aws_role = get_execution_role()\n",
    "aws_region = boto3.Session().region_name\n",
    "sess = sagemaker.Session()\n",
    "\n",
    "print('-----AWS authentication info------')\n",
    "print('Role: ' + aws_role)\n",
    "print('Region: ' + aws_region)\n",
    "print('----------------------------------')"
   ]
  },
  {
   "cell_type": "markdown",
   "id": "2e83f975-2263-4a39-ad0a-a84d480f8600",
   "metadata": {},
   "source": [
    "## Select a pre-trained model\n",
    "\n",
    "You can either proceed with the default model or select a different model from the dropdown that is generated when running the next cell.\n",
    "You can also view a list of all JumpStart models from [JumpStart Models](https://sagemaker.readthedocs.io/en/stable/doc_utils/pretrainedmodels.html).\n",
    "\n",
    "Select the following 2 information from a model_manifest file of JumpStart.\n",
    "\n",
    "* Model ID\n",
    "* Model Version"
   ]
  },
  {
   "cell_type": "code",
   "execution_count": null,
   "id": "1c214d0f-d6de-4cc5-a8d6-77c1ae4c1016",
   "metadata": {
    "tags": []
   },
   "outputs": [],
   "source": [
    "import IPython\n",
    "from ipywidgets import Dropdown\n",
    "\n",
    "# Download a model_manifest file of JumpStart.\n",
    "boto3.client(\"s3\").download_file(\n",
    "    f\"jumpstart-cache-prod-{aws_region}\", \"models_manifest.json\", \"models_manifest.json\"\n",
    ")\n",
    "with open(\"models_manifest.json\", \"rb\") as json_file:\n",
    "    model_list = json.load(json_file)\n",
    "\n",
    "# Select an image classification model from the manifest file.\n",
    "ic_models_all_versions, ic_models = [\n",
    "    model[\"model_id\"] for model in model_list if \"-ic-\" in model[\"model_id\"]\n",
    "], []\n",
    "[ic_models.append(model) for model in ic_models_all_versions if model not in ic_models]\n",
    "\n",
    "# Show a dropdown list to select the models easily.\n",
    "dropdown = Dropdown(\n",
    "    options=ic_models,\n",
    "    value=model_id,\n",
    "    description=\"JumpStart Image Classification Models:\",\n",
    "    style={\"description_width\": \"initial\"},\n",
    "    layout={\"width\": \"max-content\"},\n",
    ")\n",
    "display(IPython.display.Markdown(\"## Select a JumpStart pre-trained model from the dropdown below\"))\n",
    "display(dropdown)"
   ]
  },
  {
   "cell_type": "markdown",
   "id": "d5130da4-f120-444f-b0f6-4942f86e068e",
   "metadata": {
    "tags": []
   },
   "source": [
    "## Transfer Learninig the pre-trained model usinig your own datasets\n",
    "\n",
    "Let's fine-tune a model for custom data sets with any number of classes.\n",
    "\n",
    "Retrieve the following 3 information using SageMaker URI for training.\n",
    "* Docker image URI\n",
    "* Script URI\n",
    "* Model URI\n"
   ]
  },
  {
   "cell_type": "code",
   "execution_count": null,
   "id": "5eb0070d-8099-4ac3-bf27-3300f9a11148",
   "metadata": {
    "tags": []
   },
   "outputs": [],
   "source": [
    "from sagemaker import image_uris, model_uris, script_uris, hyperparameters\n",
    "from sagemaker.utils import name_from_base\n",
    "\n",
    "# model_version=\"*\" shows a latest version of the model.\n",
    "model_id, model_version = dropdown.value, \"*\"\n",
    "\n",
    "endpoint_name = name_from_base(f\"jumpstart-example-{model_id}\")\n",
    "\n",
    "training_instance_type = \"ml.g4dn.2xlarge\"\n",
    "\n",
    "# Retrieve a docker image uri for a transfer learning.\n",
    "train_image_uri = image_uris.retrieve(\n",
    "    region=None,\n",
    "    framework=None,\n",
    "    image_scope=\"training\",\n",
    "    model_id=model_id,\n",
    "    model_version=model_version,\n",
    "    instance_type=training_instance_type,\n",
    ")\n",
    "\n",
    "# Retrieve scripts and other data for a transfer learning.\n",
    "train_source_uri = script_uris.retrieve(\n",
    "    model_id=model_id, \n",
    "    model_version=model_version, \n",
    "    script_scope=\"training\"\n",
    ")\n",
    "\n",
    "# Retrieve a base model uri for a transfer learning.\n",
    "base_model_uri = model_uris.retrieve(\n",
    "    model_id=model_id, \n",
    "    model_version=model_version, \n",
    "    model_scope=\"training\"\n",
    ")\n",
    "\n",
    "print('----------JumpStart info----------')\n",
    "print('Endpoint name: ' + endpoint_name)\n",
    "print('Container image uri: ' + train_image_uri)\n",
    "print('Source uri: ' + train_source_uri)\n",
    "print('Base model uri: ' + base_model_uri)\n",
    "print('----------------------------------')"
   ]
  },
  {
   "cell_type": "markdown",
   "id": "28b41381-95a5-4c20-bbc0-a43b3c381e7d",
   "metadata": {},
   "source": [
    "Use rose or dandelion image classification task datasets as custom dataset for transfer learning like below.\n",
    "\n",
    "    Input_directory\n",
    "    ├ roses\n",
    "    │   ├ r-0001.jpg\n",
    "    │   ・・・\n",
    "    │   └ r-xxxx.jpg\n",
    "    └ dandelion\n",
    "        ├ d-0001.jpg\n",
    "        ・・・\n",
    "        └ d-yyyy.jpg\n",
    "    \n",
    "You can download the dataset from [here](https://www.tensorflow.org/datasets/catalog/tf_flowers)."
   ]
  },
  {
   "cell_type": "code",
   "execution_count": null,
   "id": "947d8548-d2ec-4b8d-81fb-eba2c8299870",
   "metadata": {
    "tags": []
   },
   "outputs": [],
   "source": [
    "# S3 input path\n",
    "training_data_bucket = f\"jumpstart-cache-prod-{aws_region}\"\n",
    "training_data_prefix = \"training-datasets/tf_flowers/\"\n",
    "training_dataset_s3_path = f\"s3://{training_data_bucket}/{training_data_prefix}\"\n",
    "\n",
    "# S3 output path\n",
    "output_bucket = sess.default_bucket()\n",
    "output_prefix = \"jumpstart-example-ic-training\"\n",
    "s3_output_location = f\"s3://{output_bucket}/{output_prefix}/output\""
   ]
  },
  {
   "cell_type": "markdown",
   "id": "09641d72-7e7d-4211-ad9f-49c440a87a67",
   "metadata": {},
   "source": []
  },
  {
   "cell_type": "code",
   "execution_count": null,
   "id": "84784f54-35df-4e4b-b8df-1bab85c2d815",
   "metadata": {
    "tags": []
   },
   "outputs": [],
   "source": [
    "# Retrieve default model parameters for transfer learning.\n",
    "hyperparameters = hyperparameters.retrieve_default(model_id=model_id, model_version=model_version)\n",
    "print(hyperparameters)"
   ]
  },
  {
   "cell_type": "markdown",
   "id": "acbf2e44-cd95-41f4-8eab-ec188aa4364f",
   "metadata": {},
   "source": [
    "## Check a script of the transfer learning"
   ]
  },
  {
   "cell_type": "code",
   "execution_count": null,
   "id": "62a13d7e-7f25-4b1e-89b6-97aebd83bee9",
   "metadata": {
    "tags": []
   },
   "outputs": [],
   "source": [
    "# download sourcedir from S3\n",
    "import os\n",
    "import shutil\n",
    "\n",
    "if not os.path.exists('source'):\n",
    "    os.makedirs('source')\n",
    "sourcedir_path = train_source_uri.replace('s3://' + training_data_bucket + '/','')\n",
    "boto3.client(\"s3\").download_file(training_data_bucket, sourcedir_path, './source/sourcedir.tar.gz')\n",
    "shutil.unpack_archive('./source/sourcedir.tar.gz', extract_dir='./source/')"
   ]
  },
  {
   "cell_type": "code",
   "execution_count": null,
   "id": "7df576b1-e8eb-4d20-8bdf-3b6be5cf75b4",
   "metadata": {
    "tags": []
   },
   "outputs": [],
   "source": [
    "!pygmentize ./source/transfer_learning.py"
   ]
  },
  {
   "cell_type": "markdown",
   "id": "1d530878-2f23-456c-aaf2-15b498d7d06c",
   "metadata": {},
   "source": [
    "## Run a Training Job\n",
    "Create an Estimator object containing all required arguments and run a training job."
   ]
  },
  {
   "cell_type": "code",
   "execution_count": null,
   "id": "be04113e-4f42-4d66-97dc-01912a8c6aed",
   "metadata": {
    "tags": []
   },
   "outputs": [],
   "source": [
    "from sagemaker.estimator import Estimator\n",
    "from sagemaker.utils import name_from_base\n",
    "\n",
    "training_job_name = name_from_base(f\"jumpstart-example-{model_id}-transfer-learning\")\n",
    "\n",
    "# Define an Estimator class\n",
    "ic_estimator = Estimator(\n",
    "    role=aws_role,\n",
    "    image_uri=train_image_uri,\n",
    "    source_dir=train_source_uri,\n",
    "    model_uri=base_model_uri,\n",
    "    entry_point=\"transfer_learning.py\",\n",
    "    instance_count=1,\n",
    "    instance_type=training_instance_type,\n",
    "    max_run=360000,\n",
    "    hyperparameters=hyperparameters,\n",
    "    output_path=s3_output_location,\n",
    "    base_job_name=training_job_name,\n",
    ")\n",
    "\n",
    "# Run the Training Job \n",
    "ic_estimator.fit({\"training\": training_dataset_s3_path}, logs=True)"
   ]
  },
  {
   "cell_type": "markdown",
   "id": "ccaa083c-a429-447c-8f75-470e45cb1c4a",
   "metadata": {},
   "source": [
    "## Deploy Endpoints\n",
    "\n",
    "Retrieve the following 2 information using SageMaker URI for inference.\n",
    "* Docker image URI\n",
    "* Script URI\n",
    "\n",
    "Generally, you must retrieve a Model URI as well. In this case, you will use the transfer-learned model instead of the Model URI."
   ]
  },
  {
   "cell_type": "code",
   "execution_count": null,
   "id": "eadce022-dae1-481b-a620-4cada6442cfa",
   "metadata": {
    "tags": []
   },
   "outputs": [],
   "source": [
    "inference_instance_type = \"ml.m5.xlarge\"\n",
    "endpoint_name = name_from_base(f\"jumpstart-example-FT-{model_id}-\")\n",
    "\n",
    "# Rerieve a docker image for an inference\n",
    "deploy_image_uri = image_uris.retrieve(\n",
    "    region=None,\n",
    "    framework=None,\n",
    "    image_scope=\"inference\",\n",
    "    model_id=model_id,\n",
    "    model_version=model_version,\n",
    "    instance_type=inference_instance_type,\n",
    ")\n",
    "\n",
    "# Rerieve a script and other data for an inference\n",
    "deploy_source_uri = script_uris.retrieve(\n",
    "    model_id=model_id, model_version=model_version, script_scope=\"inference\"\n",
    ")"
   ]
  },
  {
   "cell_type": "markdown",
   "id": "e8f20ae8-d7c8-4f93-ac9e-46c20affa5c6",
   "metadata": {},
   "source": [
    "Deploy an endpoint using the transfer-learned model."
   ]
  },
  {
   "cell_type": "code",
   "execution_count": null,
   "id": "8327cf4a-215a-4a6e-b0f1-93abb8981466",
   "metadata": {
    "tags": []
   },
   "outputs": [],
   "source": [
    "finetuned_predictor = ic_estimator.deploy(\n",
    "    initial_instance_count=1,\n",
    "    instance_type=inference_instance_type,\n",
    "    entry_point=\"inference.py\",\n",
    "    image_uri=deploy_image_uri,\n",
    "    source_dir=deploy_source_uri,\n",
    "    endpoint_name=endpoint_name,\n",
    ")"
   ]
  },
  {
   "cell_type": "markdown",
   "id": "068022ea-da73-4d6d-9fb7-7934630a8515",
   "metadata": {},
   "source": [
    "Download sample images of roses and sunflowers from the S3 bucket."
   ]
  },
  {
   "cell_type": "code",
   "execution_count": null,
   "id": "245aff37-514d-4450-b5b0-c8a13cf0d464",
   "metadata": {
    "tags": []
   },
   "outputs": [],
   "source": [
    "s3_bucket = f\"jumpstart-cache-prod-{aws_region}\"\n",
    "key_prefix = \"training-datasets/tf_flowers\"\n",
    "\n",
    "\n",
    "def download_from_s3(images):\n",
    "    for filename, image_key in images.items():\n",
    "        boto3.client(\"s3\").download_file(s3_bucket, f\"{key_prefix}/{image_key}\", filename)\n",
    "\n",
    "\n",
    "flower_images = {\n",
    "    \"img1.jpg\": \"roses/10503217854_e66a804309.jpg\",\n",
    "    \"img2.jpg\": \"sunflowers/1008566138_6927679c8a.jpg\",\n",
    "}\n",
    "download_from_s3(flower_images)"
   ]
  },
  {
   "cell_type": "markdown",
   "id": "c095bfd8-e183-42f4-9967-4309ffaa38f4",
   "metadata": {},
   "source": [
    "Predict labels from the downloaded iamges via the endpoint."
   ]
  },
  {
   "cell_type": "code",
   "execution_count": null,
   "id": "cabfe78e-3911-4a94-b655-4c68482e5418",
   "metadata": {
    "tags": []
   },
   "outputs": [],
   "source": [
    "from IPython.core.display import HTML\n",
    "\n",
    "for image_filename in flower_images.keys():\n",
    "    with open(image_filename, \"rb\") as file:\n",
    "        img = file.read()\n",
    "    query_response = finetuned_predictor.predict(\n",
    "        img, {\"ContentType\": \"application/x-image\", \"Accept\": \"application/json;verbose\"}\n",
    "    )\n",
    "    model_predictions = json.loads(query_response)\n",
    "    predicted_label = model_predictions[\"predicted_label\"]\n",
    "    display(\n",
    "        HTML(\n",
    "            f'<img src={image_filename} alt={image_filename} align=\"left\" style=\"width: 250px;\"/>'\n",
    "            f\"<figcaption>Predicted Label: {predicted_label}</figcaption>\"\n",
    "        )\n",
    "    )"
   ]
  },
  {
   "cell_type": "markdown",
   "id": "d2a5ddd2-8f68-4ce7-a536-9ff883acd06f",
   "metadata": {},
   "source": [
    "Delete the model and the endpont"
   ]
  },
  {
   "cell_type": "code",
   "execution_count": null,
   "id": "d2b79995-e923-4866-8386-8a5869336ab4",
   "metadata": {
    "tags": []
   },
   "outputs": [],
   "source": [
    "finetuned_predictor.delete_model()\n",
    "finetuned_predictor.delete_endpoint()"
   ]
  },
  {
   "cell_type": "markdown",
   "id": "2a37c8eb-a720-409c-b10d-b7a94cfbb35d",
   "metadata": {},
   "source": [
    "## Incremental learinig\n",
    "\n",
    "Incremental learning is a learning approach that trains a new model using an extended dataset that includes patterns that were not considered in the previous learning, leading to a degradation in the model's performance.\n",
    "\n",
    "You can start to train a new model using artifacts from an existing model and an extended dataset. Incremental learning can save both time and resources by avoiding the need to retrain the model from scratch."
   ]
  },
  {
   "cell_type": "code",
   "execution_count": null,
   "id": "c8e092d5-c422-4330-822e-aac1cc2739d4",
   "metadata": {
    "tags": []
   },
   "outputs": [],
   "source": [
    "# Based on the job name for training and the output location of the artifacts,\n",
    "# identify the trained model in the previous step.\n",
    "\n",
    "last_training_job_name = ic_estimator._current_job_name\n",
    "\n",
    "last_trained_model_path = f\"{s3_output_location}/{last_training_job_name}/output/model.tar.gz\"\n",
    "\n",
    "print('-------Previous step info---------')\n",
    "print('Last training job name: ' + last_training_job_name)\n",
    "print('Last trained model path: ' + last_trained_model_path)\n",
    "print('----------------------------------')"
   ]
  },
  {
   "cell_type": "code",
   "execution_count": null,
   "id": "218312f4-1447-49bf-9850-6b48626d98f1",
   "metadata": {
    "tags": []
   },
   "outputs": [],
   "source": [
    "incremental_train_output_prefix = \"jumpstart-example-ic-incremental-training\"\n",
    "incremental_s3_output_location = f\"s3://{output_bucket}/{incremental_train_output_prefix}/output\"\n",
    "incremental_training_job_name = name_from_base(f\"jumpstart-example-{model_id}-incremental-training\")\n",
    "\n",
    "print('----------New step info-----------')\n",
    "print('Incremental training job name: ' + incremental_training_job_name)\n",
    "print('Incremental training output path: ' + incremental_s3_output_location)\n",
    "print('----------------------------------')\n",
    "\n",
    "incremental_train_estimator = Estimator(\n",
    "    role=aws_role,\n",
    "    image_uri=train_image_uri,\n",
    "    source_dir=train_source_uri,\n",
    "    model_uri=last_trained_model_path,\n",
    "    entry_point=\"transfer_learning.py\",\n",
    "    instance_count=1,\n",
    "    instance_type=training_instance_type,\n",
    "    max_run=360000,\n",
    "    hyperparameters=hyperparameters,\n",
    "    output_path=incremental_s3_output_location,\n",
    "    base_job_name=incremental_training_job_name,\n",
    ")\n",
    "\n",
    "incremental_train_estimator.fit({\"training\": training_dataset_s3_path}, logs=True)"
   ]
  },
  {
   "cell_type": "markdown",
   "id": "77615f90-10d0-48a8-bdb3-04ce53732086",
   "metadata": {},
   "source": [
    "After completing training, you can deploy the incremental-learned model following the previous deploy steps"
   ]
  },
  {
   "cell_type": "code",
   "execution_count": null,
   "id": "8fa24d1c-57f4-4fea-b06c-ad7851648d9d",
   "metadata": {},
   "outputs": [],
   "source": []
  },
  {
   "cell_type": "code",
   "execution_count": null,
   "id": "eeb82565-720d-4c17-8884-1058568f338d",
   "metadata": {},
   "outputs": [],
   "source": []
  },
  {
   "cell_type": "code",
   "execution_count": null,
   "id": "613146f4-77da-4d97-af36-8e6f36a7a1f1",
   "metadata": {},
   "outputs": [],
   "source": []
  }
 ],
 "metadata": {
  "kernelspec": {
   "display_name": "conda_python3",
   "language": "python",
   "name": "conda_python3"
  },
  "language_info": {
   "codemirror_mode": {
    "name": "ipython",
    "version": 3
   },
   "file_extension": ".py",
   "mimetype": "text/x-python",
   "name": "python",
   "nbconvert_exporter": "python",
   "pygments_lexer": "ipython3",
   "version": "3.10.13"
  }
 },
 "nbformat": 4,
 "nbformat_minor": 5
}
